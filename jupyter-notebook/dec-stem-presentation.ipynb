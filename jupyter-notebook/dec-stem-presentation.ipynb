{
 "cells": [
  {
   "cell_type": "markdown",
   "metadata": {},
   "source": [
    "# STEM Presentation: Predictive Modeling\n",
    "\n",
    "Predictive modeling is the source of a lot of the cutting-edge software out of\n",
    "Silicon Valley.\n",
    "\n",
    "Let's start with a basic example of we perform some basic data analysis using\n",
    "Python.\n",
    "\n",
    "Let us begin with some data. Our data is in a csv file. A csv file is simply\n",
    "a text file with rows in the data delimited by a comma."
   ]
  },
  {
   "cell_type": "code",
   "execution_count": null,
   "metadata": {},
   "outputs": [],
   "source": [
    "import numpy as np\n",
    "import pandas as pa\n",
    "import matplotlib.pyplot as plt\n",
    "\n",
    "boston_crime_data = pa.read_csv('Boston.csv')\n",
    "\n",
    "print(boston_crime_data.head())"
   ]
  },
  {
   "cell_type": "markdown",
   "metadata": {},
   "source": [
    "As we can see, each of the rows of data contains information for a different\n",
    "column. This data contains information on per-capita crime rates by town, with\n",
    "other information by town such as age of houses, whether or not a town sits on\n",
    "the Charles River, property tax-rate, pupil-teacher ratio, proportion of large\n",
    "zones in town, etc.\n",
    "\n",
    "Before we consider building a model, let's take a look at our data. Let's focus\n",
    "on determinants of crime. Our outcome variable of interest will be 'crim'.\n",
    "Let's plot the distribution of it and take a look."
   ]
  },
  {
   "cell_type": "code",
   "execution_count": null,
   "metadata": {},
   "outputs": [],
   "source": [
    "plt.hist(boston_crime_data['crim'], bins=10)"
   ]
  },
  {
   "cell_type": "markdown",
   "metadata": {},
   "source": [
    "As we can see, our data is more populated as we get closer to 0. Why would we\n",
    "expect this with something like crime rate?\n",
    "\n",
    "Now, let's take a look at some of our other variables.\n",
    "\n",
    "Given that the 'crim' column is distribute so close to 0, it makes linear\n",
    "predictive modeling difficult to perform, given that negative rates are not\n",
    "possible."
   ]
  },
  {
   "cell_type": "code",
   "execution_count": null,
   "metadata": {},
   "outputs": [],
   "source": [
    "plt.hist(np.log(boston_crime_data['crim']), bins=10)"
   ]
  },
  {
   "cell_type": "markdown",
   "metadata": {},
   "source": [
    "Now let's try building a simple model:"
   ]
  },
  {
   "cell_type": "code",
   "execution_count": null,
   "metadata": {},
   "outputs": [],
   "source": [
    "import statsmodels.formula.api as smf\n",
    "model = smf.ols(formula='crim ~ age + chas + zn + ptratio',\n",
    "                data=boston_crime_data)\n",
    "model_fit = model.fit()\n",
    "print(model_fit.summary())"
   ]
  }
 ],
 "metadata": {},
 "nbformat": 4,
 "nbformat_minor": 2
}
