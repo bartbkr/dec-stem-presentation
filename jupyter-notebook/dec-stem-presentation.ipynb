{
 "cells": [
  {
   "cell_type": "markdown",
   "metadata": {},
   "source": [
    "# STEM Presentation: Predictive Modeling\n",
    "\n",
    "Predictive modeling is the source of a lot of the cutting-edge software out of\n",
    "Silicon Valley.\n",
    "\n",
    "Let's start with a basic example of we perform some basic data analysis using\n",
    "Python.\n",
    "\n",
    "Let us begin with some data. Our data is in a csv file. A csv file is simply\n",
    "a text file with rows in the data delimited by a comma."
   ]
  },
  {
   "cell_type": "code",
   "execution_count": null,
   "metadata": {},
   "outputs": [],
   "source": [
    "import numpy as np\n",
    "import pandas as pa\n",
    "import matplotlib.pyplot as plt\n",
    "\n",
    "boston_crime_data = pa.read_csv('Boston.csv')\n",
    "\n",
    "print(boston_crime_data.head())"
   ]
  },
  {
   "cell_type": "markdown",
   "metadata": {},
   "source": [
    "As we can see, each of the rows of data contains information for a different\n",
    "column. This data contains information on per-capita crime rates by town, with\n",
    "other information by town such as age of houses, whether or not a town sits on\n",
    "the Charles River, property tax-rate, pupil-teacher ratio, proportion of large\n",
    "zones in town, etc.\n",
    "\n",
    "Before we consider building a model, let's take a look at our data. Let's focus\n",
    "on determinants of crime. Our outcome variable of interest will be 'crim'.\n",
    "Let's plot the distribution of it and take a look."
   ]
  },
  {
   "cell_type": "code",
   "execution_count": null,
   "metadata": {},
   "outputs": [],
   "source": [
    "fig, ax = plt.subplots(figsize=(14, 12))\n",
    "ax.hist(boston_crime_data['crim'], bins=10)\n",
    "ax.set_xlabel('Crime Rate (%)', fontsize=16)\n",
    "ax.set_ylabel('Number of towns', fontsize=16)\n",
    "ax.tick_params(axis='both', which='major', labelsize=14)"
   ]
  },
  {
   "cell_type": "markdown",
   "metadata": {},
   "source": [
    "As we can see, our data is more populated as we get closer to 0. Why would we\n",
    "expect this with something like crime rate?\n",
    "\n",
    "Given that the 'crim' column is distributed so close to 0, it makes linear\n",
    "predictive modeling difficult to perform, given that negative rates are not\n",
    "possible.\n",
    "\n",
    "Now, let's take a look at some of our other variables:\n",
    "\n",
    "* crim: per capita crime rate by town.\n",
    "* zn: proportion of residential land zoned for lots over 25,000 sq.ft.\n",
    "* indus: proportion of non-retail business acres per town.\n",
    "* chas: Charles River dummy variable (= 1 if tract bounds river; 0 otherwise).\n",
    "* nox: nitrogen oxides concentration (parts per 10 million).\n",
    "* rm: average number of rooms per dwelling.\n",
    "* age: proportion of owner-occupied units built prior to 1940.\n",
    "* dis: weighted mean of distances to five Boston employment centres.\n",
    "* rad: index of accessibility to radial highways.\n",
    "* tax: full-value property-tax rate per \\$10,000.\n",
    "* ptratio: pupil-teacher ratio by town.\n",
    "* black: 1000(Bk - 0.63)^2 where Bk is the proportion of blacks by town.\n",
    "* lstat: lower status of the population (percent).\n",
    "* medv: median value of owner-occupied homes in \\$1000s."
   ]
  },
  {
   "cell_type": "code",
   "execution_count": null,
   "metadata": {},
   "outputs": [],
   "source": [
    "boston_crime_data['crim_log'] = np.log(boston_crime_data['crim'])\n",
    "fig, ax = plt.subplots(figsize=(14, 12))\n",
    "ax.hist(boston_crime_data['crim_log'], bins=10)\n",
    "ax.set_xlabel('Crime Rate (%)', fontsize=16)\n",
    "ax.set_ylabel('Number of towns', fontsize=16)\n",
    "ax.tick_params(axis='both', which='major', labelsize=14)"
   ]
  },
  {
   "cell_type": "markdown",
   "metadata": {},
   "source": [
    "Now let's try building a simple model. In this model, we are attempting to\n",
    "estimate the impact of individual influences on the crime rate, holding all\n",
    "other relevant influences constant."
   ]
  },
  {
   "cell_type": "code",
   "execution_count": 36,
   "metadata": {
    "attributes": {
     "classes": [],
     "id": "",
     "n": "36"
    }
   },
   "outputs": [],
   "source": [
    "import statsmodels.formula.api as smf\n",
    "model = smf.ols(formula='crim_log ~ age + chas + zn + ptratio',\n",
    "                data=boston_crime_data)\n",
    "model_fit = model.fit()\n",
    "print(model_fit.summary())"
   ]
  },
  {
   "cell_type": "markdown",
   "metadata": {},
   "source": [
    "Let's see how our model did at predicting within the sample:"
   ]
  },
  {
   "cell_type": "code",
   "execution_count": null,
   "metadata": {},
   "outputs": [],
   "source": [
    "predicted_values = model_fit.predict()\n",
    "fig, ax = plt.subplots(figsize=(14, 12))\n",
    "ax.scatter(boston_crime_data['crim_log'], np.exp(predicted_values))\n",
    "ax.set_xlabel('Observed', fontsize=16)\n",
    "ax.set_ylabel('Predicted', fontsize=16)"
   ]
  }
 ],
 "metadata": {},
 "nbformat": 4,
 "nbformat_minor": 2
}
